{
  "nbformat": 4,
  "nbformat_minor": 0,
  "metadata": {
    "colab": {
      "provenance": [],
      "authorship_tag": "ABX9TyNPRYWlBTDYuwggkU1AizMa",
      "include_colab_link": true
    },
    "kernelspec": {
      "name": "python3",
      "display_name": "Python 3"
    },
    "language_info": {
      "name": "python"
    }
  },
  "cells": [
    {
      "cell_type": "markdown",
      "metadata": {
        "id": "view-in-github",
        "colab_type": "text"
      },
      "source": [
        "<a href=\"https://colab.research.google.com/github/rahulku91058/CodeAlpha_LanguageTranslationTool/blob/main/Computer_vision/CV.ipynb\" target=\"_parent\"><img src=\"https://colab.research.google.com/assets/colab-badge.svg\" alt=\"Open In Colab\"/></a>"
      ]
    },
    {
      "cell_type": "code",
      "execution_count": null,
      "metadata": {
        "id": "uCMkf3Ptylnq"
      },
      "outputs": [],
      "source": [
        "import cv2\n",
        "image = cv2.imread(\"dog.jpg\")\n",
        "cv.cvtColor(image, cv2.COLOR_BGR2GRAY)\n",
        "cv2.resize(image, (300, 300))\n",
        "cv2.rotate(image, cv2.ROTATE_90_CLOCKWISE)\n"
      ]
    }
  ]
}